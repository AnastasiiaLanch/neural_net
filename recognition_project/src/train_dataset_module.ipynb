{
 "cells": [
  {
   "cell_type": "code",
   "execution_count": null,
   "id": "a7c01fd1-393a-47ee-bb3f-988e3df7487f",
   "metadata": {},
   "outputs": [],
   "source": [
    "#Класс train датасета\n",
    "class TrainMNIST(Dataset): \n",
    "    def __init__(self, file_path, transform=None):\n",
    "        self.data = pd.read_csv(file_path)\n",
    "        self.transform = transform\n",
    "    def __len__(self):\n",
    "        return len(self.data)\n",
    "    def __getitem__(self, index):\n",
    "        image = self.data.iloc[index, 1:].values.astype(np.float32).reshape((28, 28, 1)) # признаки\n",
    "        label = self.data.iloc[index, 0] # таргер\n",
    "        if self.transform is not None:\n",
    "            image = self.transform(image)\n",
    "        return image, label"
   ]
  }
 ],
 "metadata": {
  "kernelspec": {
   "display_name": "Python 3 (ipykernel)",
   "language": "python",
   "name": "python3"
  },
  "language_info": {
   "codemirror_mode": {
    "name": "ipython",
    "version": 3
   },
   "file_extension": ".py",
   "mimetype": "text/x-python",
   "name": "python",
   "nbconvert_exporter": "python",
   "pygments_lexer": "ipython3",
   "version": "3.11.5"
  }
 },
 "nbformat": 4,
 "nbformat_minor": 5
}
